{
 "cells": [
  {
   "cell_type": "markdown",
   "metadata": {},
   "source": [
    "# Setup\n",
    "\n",
    "- Make sure to have a clock visible\n",
    "- Check network connectivity\n",
    "- Displays mirrored\n",
    "- Slides up\n",
    "- Empty notebook\n",
    "  - Ideally using 3.7-pre because it has better error messages: `python-37/bin/jupyter notebook`\n",
    "  - Full screened (F11)\n",
    "  - Hide header and toolbar\n",
    "  - Turn on line numbers\n",
    "- This loaded in a tab for a cheat sheet I guess\n",
    "- No other windows on the same desktop\n",
    "\n",
    "# Demonstrating getaddrinfo\n",
    "\n",
    "Demo with `lbl.gov`, `facebook.com`, `debian.org`"
   ]
  },
  {
   "cell_type": "code",
   "execution_count": 2,
   "metadata": {
    "scrolled": false
   },
   "outputs": [
    {
     "data": {
      "text/plain": [
       "[(<AddressFamily.AF_INET: 2>,\n",
       "  <SocketKind.SOCK_STREAM: 1>,\n",
       "  6,\n",
       "  '',\n",
       "  ('128.3.41.146', 80))]"
      ]
     },
     "execution_count": 2,
     "metadata": {},
     "output_type": "execute_result"
    }
   ],
   "source": [
    "import socket\n",
    "socket.getaddrinfo(\"lbl.gov\", \"http\")"
   ]
  },
  {
   "cell_type": "markdown",
   "metadata": {},
   "source": [
    "# `async/await`"
   ]
  },
  {
   "cell_type": "code",
   "execution_count": 1,
   "metadata": {},
   "outputs": [
    {
     "name": "stdout",
     "output_type": "stream",
     "text": [
      "Going to sleep\n",
      "Woke up again!\n",
      "duration was 4\n"
     ]
    }
   ],
   "source": [
    "import trio\n",
    "\n",
    "# Also demonstrate: await outside of an async function\n",
    "\n",
    "def double(x):\n",
    "    return 2 * x\n",
    "\n",
    "async def double_sleep(x):\n",
    "    duration = double(x)\n",
    "    print(\"Going to sleep\")\n",
    "    await trio.sleep(duration)\n",
    "    print(\"Woke up again!\")\n",
    "    return duration\n",
    "    \n",
    "async def quadruple_sleep(x):\n",
    "    duration = await double_sleep(double(x))\n",
    "    print(\"duration was\", duration)\n",
    "\n",
    "trio.run(quadruple_sleep, 1)"
   ]
  },
  {
   "cell_type": "markdown",
   "metadata": {},
   "source": [
    "# Cancel scopes"
   ]
  },
  {
   "cell_type": "code",
   "execution_count": 29,
   "metadata": {},
   "outputs": [
    {
     "name": "stdout",
     "output_type": "stream",
     "text": [
      "Going to sleep\n",
      "That's all folks\n"
     ]
    }
   ],
   "source": [
    "# Timeouts\n",
    "\n",
    "async def main():\n",
    "    with trio.move_on_after(2):\n",
    "        print(\"Going to sleep\")\n",
    "        await trio.sleep(999)\n",
    "        print(\"Sleep finished\")\n",
    "    print(\"That's all folks\")\n",
    "        \n",
    "trio.run(main)"
   ]
  },
  {
   "cell_type": "code",
   "execution_count": 4,
   "metadata": {},
   "outputs": [
    {
     "name": "stdout",
     "output_type": "stream",
     "text": [
      "Cancel scope is <cancel scope object at 0x7fa748013588>\n",
      "Going to sleep\n",
      "That's all folks\n"
     ]
    }
   ],
   "source": [
    "# Explicit cancellation\n",
    "\n",
    "async def main():\n",
    "    with trio.move_on_after(2) as cancel_scope:\n",
    "        print(\"Cancel scope is\", cancel_scope)\n",
    "        cancel_scope.cancel()\n",
    "        await quadruple_sleep(100)\n",
    "    print(\"That's all folks\")\n",
    "        \n",
    "trio.run(main)"
   ]
  },
  {
   "cell_type": "markdown",
   "metadata": {},
   "source": [
    "# Nurseries"
   ]
  },
  {
   "cell_type": "code",
   "execution_count": 36,
   "metadata": {},
   "outputs": [
    {
     "name": "stdout",
     "output_type": "stream",
     "text": [
      "main started\n",
      "Task 2 started\n",
      "Task 1 started!\n",
      "Task 1 finished!\n",
      "Task 2 finished\n",
      "main finished\n"
     ]
    }
   ],
   "source": [
    "async def task1():\n",
    "    print(\"Task 1 started!\")\n",
    "    await trio.sleep(1)\n",
    "    print(\"Task 1 finished!\")\n",
    "    \n",
    "async def task2():\n",
    "    print(\"Task 2 started\")\n",
    "    await trio.sleep(1)\n",
    "    print(\"Task 2 finished\")\n",
    "    \n",
    "async def main():\n",
    "    print(\"main started\")\n",
    "    async with trio.open_nursery() as nursery:\n",
    "        nursery.start_soon(task1)\n",
    "        nursery.start_soon(task2)\n",
    "    print(\"main finished\")\n",
    "    \n",
    "trio.run(main)"
   ]
  },
  {
   "cell_type": "code",
   "execution_count": 6,
   "metadata": {
    "scrolled": true
   },
   "outputs": [
    {
     "name": "stdout",
     "output_type": "stream",
     "text": [
      "main started\n",
      "nursery cancel scope is <cancel scope object at 0x7fa748013cf8>\n",
      "Task 1 started!\n",
      "Task 2 started\n"
     ]
    },
    {
     "ename": "NameError",
     "evalue": "name 'rtio' is not defined",
     "output_type": "error",
     "traceback": [
      "\u001b[0;31m---------------------------------------------------------------------------\u001b[0m",
      "\u001b[0;31mNameError\u001b[0m                                 Traceback (most recent call last)",
      "\u001b[0;32m<ipython-input-6-fc285bc63a49>\u001b[0m in \u001b[0;36m<module>\u001b[0;34m()\u001b[0m\n\u001b[1;32m     17\u001b[0m     \u001b[0mprint\u001b[0m\u001b[0;34m(\u001b[0m\u001b[0;34m\"main finished\"\u001b[0m\u001b[0;34m)\u001b[0m\u001b[0;34m\u001b[0m\u001b[0m\n\u001b[1;32m     18\u001b[0m \u001b[0;34m\u001b[0m\u001b[0m\n\u001b[0;32m---> 19\u001b[0;31m \u001b[0mtrio\u001b[0m\u001b[0;34m.\u001b[0m\u001b[0mrun\u001b[0m\u001b[0;34m(\u001b[0m\u001b[0mmain\u001b[0m\u001b[0;34m)\u001b[0m\u001b[0;34m\u001b[0m\u001b[0m\n\u001b[0m",
      "\u001b[0;32m~/2017-trio-lbl-talk/python-37/lib/python3.7/site-packages/trio/_core/_run.py\u001b[0m in \u001b[0;36mrun\u001b[0;34m(async_fn, clock, instruments, restrict_keyboard_interrupt_to_checkpoints, *args)\u001b[0m\n\u001b[1;32m   1394\u001b[0m             \u001b[0;32mfinally\u001b[0m\u001b[0;34m:\u001b[0m\u001b[0;34m\u001b[0m\u001b[0m\n\u001b[1;32m   1395\u001b[0m                 \u001b[0mGLOBAL_RUN_CONTEXT\u001b[0m\u001b[0;34m.\u001b[0m\u001b[0m__dict__\u001b[0m\u001b[0;34m.\u001b[0m\u001b[0mclear\u001b[0m\u001b[0;34m(\u001b[0m\u001b[0;34m)\u001b[0m\u001b[0;34m\u001b[0m\u001b[0m\n\u001b[0;32m-> 1396\u001b[0;31m             \u001b[0;32mreturn\u001b[0m \u001b[0mresult\u001b[0m\u001b[0;34m.\u001b[0m\u001b[0munwrap\u001b[0m\u001b[0;34m(\u001b[0m\u001b[0;34m)\u001b[0m\u001b[0;34m\u001b[0m\u001b[0m\n\u001b[0m\u001b[1;32m   1397\u001b[0m     \u001b[0;32mfinally\u001b[0m\u001b[0;34m:\u001b[0m\u001b[0;34m\u001b[0m\u001b[0m\n\u001b[1;32m   1398\u001b[0m         \u001b[0;31m# To guarantee that we never swallow a KeyboardInterrupt, we have to\u001b[0m\u001b[0;34m\u001b[0m\u001b[0;34m\u001b[0m\u001b[0m\n",
      "\u001b[0;32m~/2017-trio-lbl-talk/python-37/lib/python3.7/site-packages/trio/_core/_result.py\u001b[0m in \u001b[0;36munwrap\u001b[0;34m(self)\u001b[0m\n\u001b[1;32m    117\u001b[0m \u001b[0;34m\u001b[0m\u001b[0m\n\u001b[1;32m    118\u001b[0m     \u001b[0;32mdef\u001b[0m \u001b[0munwrap\u001b[0m\u001b[0;34m(\u001b[0m\u001b[0mself\u001b[0m\u001b[0;34m)\u001b[0m\u001b[0;34m:\u001b[0m\u001b[0;34m\u001b[0m\u001b[0m\n\u001b[0;32m--> 119\u001b[0;31m         \u001b[0;32mraise\u001b[0m \u001b[0mself\u001b[0m\u001b[0;34m.\u001b[0m\u001b[0merror\u001b[0m\u001b[0;34m\u001b[0m\u001b[0m\n\u001b[0m\u001b[1;32m    120\u001b[0m \u001b[0;34m\u001b[0m\u001b[0m\n\u001b[1;32m    121\u001b[0m     \u001b[0;32mdef\u001b[0m \u001b[0msend\u001b[0m\u001b[0;34m(\u001b[0m\u001b[0mself\u001b[0m\u001b[0;34m,\u001b[0m \u001b[0mit\u001b[0m\u001b[0;34m)\u001b[0m\u001b[0;34m:\u001b[0m\u001b[0;34m\u001b[0m\u001b[0m\n",
      "\u001b[0;32m~/2017-trio-lbl-talk/python-37/lib/python3.7/site-packages/trio/_core/_run.py\u001b[0m in \u001b[0;36mrun_impl\u001b[0;34m(runner, async_fn, args)\u001b[0m\n\u001b[1;32m   1499\u001b[0m                 \u001b[0;31m# So now we send in the Result object and unwrap it on the\u001b[0m\u001b[0;34m\u001b[0m\u001b[0;34m\u001b[0m\u001b[0m\n\u001b[1;32m   1500\u001b[0m                 \u001b[0;31m# other side.\u001b[0m\u001b[0;34m\u001b[0m\u001b[0;34m\u001b[0m\u001b[0m\n\u001b[0;32m-> 1501\u001b[0;31m                 \u001b[0mmsg\u001b[0m \u001b[0;34m=\u001b[0m \u001b[0mtask\u001b[0m\u001b[0;34m.\u001b[0m\u001b[0mcoro\u001b[0m\u001b[0;34m.\u001b[0m\u001b[0msend\u001b[0m\u001b[0;34m(\u001b[0m\u001b[0mnext_send\u001b[0m\u001b[0;34m)\u001b[0m\u001b[0;34m\u001b[0m\u001b[0m\n\u001b[0m\u001b[1;32m   1502\u001b[0m             \u001b[0;32mexcept\u001b[0m \u001b[0mStopIteration\u001b[0m \u001b[0;32mas\u001b[0m \u001b[0mstop_iteration\u001b[0m\u001b[0;34m:\u001b[0m\u001b[0;34m\u001b[0m\u001b[0m\n\u001b[1;32m   1503\u001b[0m                 \u001b[0mfinal_result\u001b[0m \u001b[0;34m=\u001b[0m \u001b[0mValue\u001b[0m\u001b[0;34m(\u001b[0m\u001b[0mstop_iteration\u001b[0m\u001b[0;34m.\u001b[0m\u001b[0mvalue\u001b[0m\u001b[0;34m)\u001b[0m\u001b[0;34m\u001b[0m\u001b[0m\n",
      "\u001b[0;32m~/2017-trio-lbl-talk/python-37/lib/python3.7/site-packages/trio/_core/_run.py\u001b[0m in \u001b[0;36minit\u001b[0;34m(self, async_fn, args)\u001b[0m\n\u001b[1;32m   1082\u001b[0m                     \u001b[0;32mif\u001b[0m \u001b[0mtask\u001b[0m \u001b[0;32mis\u001b[0m \u001b[0mself\u001b[0m\u001b[0;34m.\u001b[0m\u001b[0mmain_task\u001b[0m\u001b[0;34m:\u001b[0m\u001b[0;34m\u001b[0m\u001b[0m\n\u001b[1;32m   1083\u001b[0m                         \u001b[0msystem_nursery\u001b[0m\u001b[0;34m.\u001b[0m\u001b[0mcancel_scope\u001b[0m\u001b[0;34m.\u001b[0m\u001b[0mcancel\u001b[0m\u001b[0;34m(\u001b[0m\u001b[0;34m)\u001b[0m\u001b[0;34m\u001b[0m\u001b[0m\n\u001b[0;32m-> 1084\u001b[0;31m                         \u001b[0;32mreturn\u001b[0m \u001b[0msystem_nursery\u001b[0m\u001b[0;34m.\u001b[0m\u001b[0m_reap_and_unwrap\u001b[0m\u001b[0;34m(\u001b[0m\u001b[0mtask\u001b[0m\u001b[0;34m)\u001b[0m\u001b[0;34m\u001b[0m\u001b[0m\n\u001b[0m\u001b[1;32m   1085\u001b[0m                     \u001b[0;32melse\u001b[0m\u001b[0;34m:\u001b[0m\u001b[0;34m\u001b[0m\u001b[0m\n\u001b[1;32m   1086\u001b[0m                         \u001b[0msystem_nursery\u001b[0m\u001b[0;34m.\u001b[0m\u001b[0m_reap_and_unwrap\u001b[0m\u001b[0;34m(\u001b[0m\u001b[0mtask\u001b[0m\u001b[0;34m)\u001b[0m\u001b[0;34m\u001b[0m\u001b[0m\n",
      "\u001b[0;32m~/2017-trio-lbl-talk/python-37/lib/python3.7/site-packages/trio/_core/_run.py\u001b[0m in \u001b[0;36m_reap_and_unwrap\u001b[0;34m(self, task)\u001b[0m\n\u001b[1;32m    444\u001b[0m     \u001b[0;32mdef\u001b[0m \u001b[0m_reap_and_unwrap\u001b[0m\u001b[0;34m(\u001b[0m\u001b[0mself\u001b[0m\u001b[0;34m,\u001b[0m \u001b[0mtask\u001b[0m\u001b[0;34m)\u001b[0m\u001b[0;34m:\u001b[0m\u001b[0;34m\u001b[0m\u001b[0m\n\u001b[1;32m    445\u001b[0m         \u001b[0mself\u001b[0m\u001b[0;34m.\u001b[0m\u001b[0m_reap\u001b[0m\u001b[0;34m(\u001b[0m\u001b[0mtask\u001b[0m\u001b[0;34m)\u001b[0m\u001b[0;34m\u001b[0m\u001b[0m\n\u001b[0;32m--> 446\u001b[0;31m         \u001b[0;32mreturn\u001b[0m \u001b[0mtask\u001b[0m\u001b[0;34m.\u001b[0m\u001b[0m_result\u001b[0m\u001b[0;34m.\u001b[0m\u001b[0munwrap\u001b[0m\u001b[0;34m(\u001b[0m\u001b[0;34m)\u001b[0m\u001b[0;34m\u001b[0m\u001b[0m\n\u001b[0m\u001b[1;32m    447\u001b[0m \u001b[0;34m\u001b[0m\u001b[0m\n\u001b[1;32m    448\u001b[0m     \u001b[0;34m@\u001b[0m\u001b[0mdeprecated\u001b[0m\u001b[0;34m(\u001b[0m\u001b[0;34m\"0.2.0\"\u001b[0m\u001b[0;34m,\u001b[0m \u001b[0minstead\u001b[0m\u001b[0;34m=\u001b[0m\u001b[0;32mNone\u001b[0m\u001b[0;34m,\u001b[0m \u001b[0missue\u001b[0m\u001b[0;34m=\u001b[0m\u001b[0;36m136\u001b[0m\u001b[0;34m)\u001b[0m\u001b[0;34m\u001b[0m\u001b[0m\n",
      "\u001b[0;32m~/2017-trio-lbl-talk/python-37/lib/python3.7/site-packages/trio/_core/_result.py\u001b[0m in \u001b[0;36munwrap\u001b[0;34m(self)\u001b[0m\n\u001b[1;32m    117\u001b[0m \u001b[0;34m\u001b[0m\u001b[0m\n\u001b[1;32m    118\u001b[0m     \u001b[0;32mdef\u001b[0m \u001b[0munwrap\u001b[0m\u001b[0;34m(\u001b[0m\u001b[0mself\u001b[0m\u001b[0;34m)\u001b[0m\u001b[0;34m:\u001b[0m\u001b[0;34m\u001b[0m\u001b[0m\n\u001b[0;32m--> 119\u001b[0;31m         \u001b[0;32mraise\u001b[0m \u001b[0mself\u001b[0m\u001b[0;34m.\u001b[0m\u001b[0merror\u001b[0m\u001b[0;34m\u001b[0m\u001b[0m\n\u001b[0m\u001b[1;32m    120\u001b[0m \u001b[0;34m\u001b[0m\u001b[0m\n\u001b[1;32m    121\u001b[0m     \u001b[0;32mdef\u001b[0m \u001b[0msend\u001b[0m\u001b[0;34m(\u001b[0m\u001b[0mself\u001b[0m\u001b[0;34m,\u001b[0m \u001b[0mit\u001b[0m\u001b[0;34m)\u001b[0m\u001b[0;34m:\u001b[0m\u001b[0;34m\u001b[0m\u001b[0m\n",
      "\u001b[0;32m~/2017-trio-lbl-talk/python-37/lib/python3.7/site-packages/trio/_core/_run.py\u001b[0m in \u001b[0;36mrun_impl\u001b[0;34m(runner, async_fn, args)\u001b[0m\n\u001b[1;32m   1499\u001b[0m                 \u001b[0;31m# So now we send in the Result object and unwrap it on the\u001b[0m\u001b[0;34m\u001b[0m\u001b[0;34m\u001b[0m\u001b[0m\n\u001b[1;32m   1500\u001b[0m                 \u001b[0;31m# other side.\u001b[0m\u001b[0;34m\u001b[0m\u001b[0;34m\u001b[0m\u001b[0m\n\u001b[0;32m-> 1501\u001b[0;31m                 \u001b[0mmsg\u001b[0m \u001b[0;34m=\u001b[0m \u001b[0mtask\u001b[0m\u001b[0;34m.\u001b[0m\u001b[0mcoro\u001b[0m\u001b[0;34m.\u001b[0m\u001b[0msend\u001b[0m\u001b[0;34m(\u001b[0m\u001b[0mnext_send\u001b[0m\u001b[0;34m)\u001b[0m\u001b[0;34m\u001b[0m\u001b[0m\n\u001b[0m\u001b[1;32m   1502\u001b[0m             \u001b[0;32mexcept\u001b[0m \u001b[0mStopIteration\u001b[0m \u001b[0;32mas\u001b[0m \u001b[0mstop_iteration\u001b[0m\u001b[0;34m:\u001b[0m\u001b[0;34m\u001b[0m\u001b[0m\n\u001b[1;32m   1503\u001b[0m                 \u001b[0mfinal_result\u001b[0m \u001b[0;34m=\u001b[0m \u001b[0mValue\u001b[0m\u001b[0;34m(\u001b[0m\u001b[0mstop_iteration\u001b[0m\u001b[0;34m.\u001b[0m\u001b[0mvalue\u001b[0m\u001b[0;34m)\u001b[0m\u001b[0;34m\u001b[0m\u001b[0m\n",
      "\u001b[0;32m<ipython-input-6-fc285bc63a49>\u001b[0m in \u001b[0;36mmain\u001b[0;34m()\u001b[0m\n\u001b[1;32m     14\u001b[0m         \u001b[0mprint\u001b[0m\u001b[0;34m(\u001b[0m\u001b[0;34m\"nursery cancel scope is\"\u001b[0m\u001b[0;34m,\u001b[0m \u001b[0mnursery\u001b[0m\u001b[0;34m.\u001b[0m\u001b[0mcancel_scope\u001b[0m\u001b[0;34m)\u001b[0m\u001b[0;34m\u001b[0m\u001b[0m\n\u001b[1;32m     15\u001b[0m         \u001b[0mnursery\u001b[0m\u001b[0;34m.\u001b[0m\u001b[0mstart_soon\u001b[0m\u001b[0;34m(\u001b[0m\u001b[0mtask1\u001b[0m\u001b[0;34m)\u001b[0m\u001b[0;34m\u001b[0m\u001b[0m\n\u001b[0;32m---> 16\u001b[0;31m         \u001b[0mnursery\u001b[0m\u001b[0;34m.\u001b[0m\u001b[0mstart_soon\u001b[0m\u001b[0;34m(\u001b[0m\u001b[0mtask2\u001b[0m\u001b[0;34m)\u001b[0m\u001b[0;34m\u001b[0m\u001b[0m\n\u001b[0m\u001b[1;32m     17\u001b[0m     \u001b[0mprint\u001b[0m\u001b[0;34m(\u001b[0m\u001b[0;34m\"main finished\"\u001b[0m\u001b[0;34m)\u001b[0m\u001b[0;34m\u001b[0m\u001b[0m\n\u001b[1;32m     18\u001b[0m \u001b[0;34m\u001b[0m\u001b[0m\n",
      "\u001b[0;32m~/2017-trio-lbl-talk/python-37/lib/python3.7/site-packages/trio/_util.py\u001b[0m in \u001b[0;36m__aexit__\u001b[0;34m(self, type, value, traceback)\u001b[0m\n\u001b[1;32m    107\u001b[0m         \u001b[0;32mif\u001b[0m \u001b[0mtype\u001b[0m \u001b[0;32mis\u001b[0m \u001b[0;32mNone\u001b[0m\u001b[0;34m:\u001b[0m\u001b[0;34m\u001b[0m\u001b[0m\n\u001b[1;32m    108\u001b[0m             \u001b[0;32mtry\u001b[0m\u001b[0;34m:\u001b[0m\u001b[0;34m\u001b[0m\u001b[0m\n\u001b[0;32m--> 109\u001b[0;31m                 \u001b[0;32mawait\u001b[0m \u001b[0mself\u001b[0m\u001b[0;34m.\u001b[0m\u001b[0m_agen\u001b[0m\u001b[0;34m.\u001b[0m\u001b[0masend\u001b[0m\u001b[0;34m(\u001b[0m\u001b[0;32mNone\u001b[0m\u001b[0;34m)\u001b[0m\u001b[0;34m\u001b[0m\u001b[0m\n\u001b[0m\u001b[1;32m    110\u001b[0m             \u001b[0;32mexcept\u001b[0m \u001b[0mStopAsyncIteration\u001b[0m\u001b[0;34m:\u001b[0m\u001b[0;34m\u001b[0m\u001b[0m\n\u001b[1;32m    111\u001b[0m                 \u001b[0;32mreturn\u001b[0m \u001b[0;32mFalse\u001b[0m\u001b[0;34m\u001b[0m\u001b[0m\n",
      "\u001b[0;32m~/2017-trio-lbl-talk/python-37/lib/python3.7/site-packages/async_generator/impl.py\u001b[0m in \u001b[0;36masend\u001b[0;34m(self, value)\u001b[0m\n\u001b[1;32m    259\u001b[0m \u001b[0;34m\u001b[0m\u001b[0m\n\u001b[1;32m    260\u001b[0m     \u001b[0;32masync\u001b[0m \u001b[0;32mdef\u001b[0m \u001b[0masend\u001b[0m\u001b[0;34m(\u001b[0m\u001b[0mself\u001b[0m\u001b[0;34m,\u001b[0m \u001b[0mvalue\u001b[0m\u001b[0;34m)\u001b[0m\u001b[0;34m:\u001b[0m\u001b[0;34m\u001b[0m\u001b[0m\n\u001b[0;32m--> 261\u001b[0;31m         \u001b[0;32mreturn\u001b[0m \u001b[0;32mawait\u001b[0m \u001b[0mself\u001b[0m\u001b[0;34m.\u001b[0m\u001b[0m_do_it\u001b[0m\u001b[0;34m(\u001b[0m\u001b[0mself\u001b[0m\u001b[0;34m.\u001b[0m\u001b[0m_it\u001b[0m\u001b[0;34m.\u001b[0m\u001b[0msend\u001b[0m\u001b[0;34m,\u001b[0m \u001b[0mvalue\u001b[0m\u001b[0;34m)\u001b[0m\u001b[0;34m\u001b[0m\u001b[0m\n\u001b[0m\u001b[1;32m    262\u001b[0m \u001b[0;34m\u001b[0m\u001b[0m\n\u001b[1;32m    263\u001b[0m     \u001b[0;32masync\u001b[0m \u001b[0;32mdef\u001b[0m \u001b[0mathrow\u001b[0m\u001b[0;34m(\u001b[0m\u001b[0mself\u001b[0m\u001b[0;34m,\u001b[0m \u001b[0mtype\u001b[0m\u001b[0;34m,\u001b[0m \u001b[0mvalue\u001b[0m\u001b[0;34m=\u001b[0m\u001b[0;32mNone\u001b[0m\u001b[0;34m,\u001b[0m \u001b[0mtraceback\u001b[0m\u001b[0;34m=\u001b[0m\u001b[0;32mNone\u001b[0m\u001b[0;34m)\u001b[0m\u001b[0;34m:\u001b[0m\u001b[0;34m\u001b[0m\u001b[0m\n",
      "\u001b[0;32m~/2017-trio-lbl-talk/python-37/lib/python3.7/site-packages/async_generator/impl.py\u001b[0m in \u001b[0;36m_do_it\u001b[0;34m(self, start_fn, *args)\u001b[0m\n\u001b[1;32m    275\u001b[0m         \u001b[0;32mtry\u001b[0m\u001b[0;34m:\u001b[0m\u001b[0;34m\u001b[0m\u001b[0m\n\u001b[1;32m    276\u001b[0m             \u001b[0mself\u001b[0m\u001b[0;34m.\u001b[0m\u001b[0mag_running\u001b[0m \u001b[0;34m=\u001b[0m \u001b[0;32mTrue\u001b[0m\u001b[0;34m\u001b[0m\u001b[0m\n\u001b[0;32m--> 277\u001b[0;31m             \u001b[0;32mreturn\u001b[0m \u001b[0;32mawait\u001b[0m \u001b[0mANextIter\u001b[0m\u001b[0;34m(\u001b[0m\u001b[0mself\u001b[0m\u001b[0;34m.\u001b[0m\u001b[0m_it\u001b[0m\u001b[0;34m,\u001b[0m \u001b[0mstart_fn\u001b[0m\u001b[0;34m,\u001b[0m \u001b[0;34m*\u001b[0m\u001b[0margs\u001b[0m\u001b[0;34m)\u001b[0m\u001b[0;34m\u001b[0m\u001b[0m\n\u001b[0m\u001b[1;32m    278\u001b[0m         \u001b[0;32mfinally\u001b[0m\u001b[0;34m:\u001b[0m\u001b[0;34m\u001b[0m\u001b[0m\n\u001b[1;32m    279\u001b[0m             \u001b[0mself\u001b[0m\u001b[0;34m.\u001b[0m\u001b[0mag_running\u001b[0m \u001b[0;34m=\u001b[0m \u001b[0;32mFalse\u001b[0m\u001b[0;34m\u001b[0m\u001b[0m\n",
      "\u001b[0;32m~/2017-trio-lbl-talk/python-37/lib/python3.7/site-packages/async_generator/impl.py\u001b[0m in \u001b[0;36msend\u001b[0;34m(self, value)\u001b[0m\n\u001b[1;32m    190\u001b[0m \u001b[0;34m\u001b[0m\u001b[0m\n\u001b[1;32m    191\u001b[0m     \u001b[0;32mdef\u001b[0m \u001b[0msend\u001b[0m\u001b[0;34m(\u001b[0m\u001b[0mself\u001b[0m\u001b[0;34m,\u001b[0m \u001b[0mvalue\u001b[0m\u001b[0;34m)\u001b[0m\u001b[0;34m:\u001b[0m\u001b[0;34m\u001b[0m\u001b[0m\n\u001b[0;32m--> 192\u001b[0;31m         \u001b[0;32mreturn\u001b[0m \u001b[0mself\u001b[0m\u001b[0;34m.\u001b[0m\u001b[0m_invoke\u001b[0m\u001b[0;34m(\u001b[0m\u001b[0mself\u001b[0m\u001b[0;34m.\u001b[0m\u001b[0m_it\u001b[0m\u001b[0;34m.\u001b[0m\u001b[0msend\u001b[0m\u001b[0;34m,\u001b[0m \u001b[0mvalue\u001b[0m\u001b[0;34m)\u001b[0m\u001b[0;34m\u001b[0m\u001b[0m\n\u001b[0m\u001b[1;32m    193\u001b[0m \u001b[0;34m\u001b[0m\u001b[0m\n\u001b[1;32m    194\u001b[0m     \u001b[0;32mdef\u001b[0m \u001b[0mthrow\u001b[0m\u001b[0;34m(\u001b[0m\u001b[0mself\u001b[0m\u001b[0;34m,\u001b[0m \u001b[0mtype\u001b[0m\u001b[0;34m,\u001b[0m \u001b[0mvalue\u001b[0m\u001b[0;34m=\u001b[0m\u001b[0;32mNone\u001b[0m\u001b[0;34m,\u001b[0m \u001b[0mtraceback\u001b[0m\u001b[0;34m=\u001b[0m\u001b[0;32mNone\u001b[0m\u001b[0;34m)\u001b[0m\u001b[0;34m:\u001b[0m\u001b[0;34m\u001b[0m\u001b[0m\n",
      "\u001b[0;32m~/2017-trio-lbl-talk/python-37/lib/python3.7/site-packages/async_generator/impl.py\u001b[0m in \u001b[0;36m_invoke\u001b[0;34m(self, fn, *args)\u001b[0m\n\u001b[1;32m    197\u001b[0m     \u001b[0;32mdef\u001b[0m \u001b[0m_invoke\u001b[0m\u001b[0;34m(\u001b[0m\u001b[0mself\u001b[0m\u001b[0;34m,\u001b[0m \u001b[0mfn\u001b[0m\u001b[0;34m,\u001b[0m \u001b[0;34m*\u001b[0m\u001b[0margs\u001b[0m\u001b[0;34m)\u001b[0m\u001b[0;34m:\u001b[0m\u001b[0;34m\u001b[0m\u001b[0m\n\u001b[1;32m    198\u001b[0m         \u001b[0;32mtry\u001b[0m\u001b[0;34m:\u001b[0m\u001b[0;34m\u001b[0m\u001b[0m\n\u001b[0;32m--> 199\u001b[0;31m             \u001b[0mresult\u001b[0m \u001b[0;34m=\u001b[0m \u001b[0mfn\u001b[0m\u001b[0;34m(\u001b[0m\u001b[0;34m*\u001b[0m\u001b[0margs\u001b[0m\u001b[0;34m)\u001b[0m\u001b[0;34m\u001b[0m\u001b[0m\n\u001b[0m\u001b[1;32m    200\u001b[0m         \u001b[0;32mexcept\u001b[0m \u001b[0mStopIteration\u001b[0m \u001b[0;32mas\u001b[0m \u001b[0me\u001b[0m\u001b[0;34m:\u001b[0m\u001b[0;34m\u001b[0m\u001b[0m\n\u001b[1;32m    201\u001b[0m             \u001b[0;31m# The underlying generator returned, so we should signal the end\u001b[0m\u001b[0;34m\u001b[0m\u001b[0;34m\u001b[0m\u001b[0m\n",
      "\u001b[0;32m~/2017-trio-lbl-talk/python-37/lib/python3.7/site-packages/trio/_core/_run.py\u001b[0m in \u001b[0;36mopen_nursery\u001b[0;34m()\u001b[0m\n\u001b[1;32m    317\u001b[0m             \u001b[0mpending_exc\u001b[0m \u001b[0;34m=\u001b[0m \u001b[0mexc\u001b[0m\u001b[0;34m\u001b[0m\u001b[0m\n\u001b[1;32m    318\u001b[0m         \u001b[0;32massert\u001b[0m \u001b[0mcurrently_ki_protected\u001b[0m\u001b[0;34m(\u001b[0m\u001b[0;34m)\u001b[0m\u001b[0;34m\u001b[0m\u001b[0m\n\u001b[0;32m--> 319\u001b[0;31m         \u001b[0;32mawait\u001b[0m \u001b[0mnursery\u001b[0m\u001b[0;34m.\u001b[0m\u001b[0m_clean_up\u001b[0m\u001b[0;34m(\u001b[0m\u001b[0mpending_exc\u001b[0m\u001b[0;34m)\u001b[0m\u001b[0;34m\u001b[0m\u001b[0m\n\u001b[0m\u001b[1;32m    320\u001b[0m \u001b[0;34m\u001b[0m\u001b[0m\n\u001b[1;32m    321\u001b[0m \u001b[0;34m\u001b[0m\u001b[0m\n",
      "\u001b[0;32m~/2017-trio-lbl-talk/python-37/lib/python3.7/contextlib.py\u001b[0m in \u001b[0;36m__exit__\u001b[0;34m(self, type, value, traceback)\u001b[0m\n\u001b[1;32m    103\u001b[0m                 \u001b[0mvalue\u001b[0m \u001b[0;34m=\u001b[0m \u001b[0mtype\u001b[0m\u001b[0;34m(\u001b[0m\u001b[0;34m)\u001b[0m\u001b[0;34m\u001b[0m\u001b[0m\n\u001b[1;32m    104\u001b[0m             \u001b[0;32mtry\u001b[0m\u001b[0;34m:\u001b[0m\u001b[0;34m\u001b[0m\u001b[0m\n\u001b[0;32m--> 105\u001b[0;31m                 \u001b[0mself\u001b[0m\u001b[0;34m.\u001b[0m\u001b[0mgen\u001b[0m\u001b[0;34m.\u001b[0m\u001b[0mthrow\u001b[0m\u001b[0;34m(\u001b[0m\u001b[0mtype\u001b[0m\u001b[0;34m,\u001b[0m \u001b[0mvalue\u001b[0m\u001b[0;34m,\u001b[0m \u001b[0mtraceback\u001b[0m\u001b[0;34m)\u001b[0m\u001b[0;34m\u001b[0m\u001b[0m\n\u001b[0m\u001b[1;32m    106\u001b[0m             \u001b[0;32mexcept\u001b[0m \u001b[0mStopIteration\u001b[0m \u001b[0;32mas\u001b[0m \u001b[0mexc\u001b[0m\u001b[0;34m:\u001b[0m\u001b[0;34m\u001b[0m\u001b[0m\n\u001b[1;32m    107\u001b[0m                 \u001b[0;31m# Suppress StopIteration *unless* it's the same exception that\u001b[0m\u001b[0;34m\u001b[0m\u001b[0;34m\u001b[0m\u001b[0m\n",
      "\u001b[0;32m~/2017-trio-lbl-talk/python-37/lib/python3.7/site-packages/trio/_core/_run.py\u001b[0m in \u001b[0;36mopen_cancel_scope\u001b[0;34m(deadline, shield)\u001b[0m\n\u001b[1;32m    201\u001b[0m     \u001b[0;32mtry\u001b[0m\u001b[0;34m:\u001b[0m\u001b[0;34m\u001b[0m\u001b[0m\n\u001b[1;32m    202\u001b[0m         \u001b[0;32mwith\u001b[0m \u001b[0mMultiError\u001b[0m\u001b[0;34m.\u001b[0m\u001b[0mcatch\u001b[0m\u001b[0;34m(\u001b[0m\u001b[0mscope\u001b[0m\u001b[0;34m.\u001b[0m\u001b[0m_exc_filter\u001b[0m\u001b[0;34m)\u001b[0m\u001b[0;34m:\u001b[0m\u001b[0;34m\u001b[0m\u001b[0m\n\u001b[0;32m--> 203\u001b[0;31m             \u001b[0;32myield\u001b[0m \u001b[0mscope\u001b[0m\u001b[0;34m\u001b[0m\u001b[0m\n\u001b[0m\u001b[1;32m    204\u001b[0m     \u001b[0;32mfinally\u001b[0m\u001b[0;34m:\u001b[0m\u001b[0;34m\u001b[0m\u001b[0m\n\u001b[1;32m    205\u001b[0m         \u001b[0mscope\u001b[0m\u001b[0;34m.\u001b[0m\u001b[0m_remove_task\u001b[0m\u001b[0;34m(\u001b[0m\u001b[0mtask\u001b[0m\u001b[0;34m)\u001b[0m\u001b[0;34m\u001b[0m\u001b[0m\n",
      "\u001b[0;32m~/2017-trio-lbl-talk/python-37/lib/python3.7/site-packages/trio/_core/_multierror.py\u001b[0m in \u001b[0;36m__exit__\u001b[0;34m(self, etype, exc, tb)\u001b[0m\n\u001b[1;32m    144\u001b[0m             \u001b[0mold_context\u001b[0m \u001b[0;34m=\u001b[0m \u001b[0mfiltered_exc\u001b[0m\u001b[0;34m.\u001b[0m\u001b[0m__context__\u001b[0m\u001b[0;34m\u001b[0m\u001b[0m\n\u001b[1;32m    145\u001b[0m             \u001b[0;32mtry\u001b[0m\u001b[0;34m:\u001b[0m\u001b[0;34m\u001b[0m\u001b[0m\n\u001b[0;32m--> 146\u001b[0;31m                 \u001b[0;32mraise\u001b[0m \u001b[0mfiltered_exc\u001b[0m\u001b[0;34m\u001b[0m\u001b[0m\n\u001b[0m\u001b[1;32m    147\u001b[0m             \u001b[0;32mfinally\u001b[0m\u001b[0;34m:\u001b[0m\u001b[0;34m\u001b[0m\u001b[0m\n\u001b[1;32m    148\u001b[0m                 \u001b[0m_\u001b[0m\u001b[0;34m,\u001b[0m \u001b[0mvalue\u001b[0m\u001b[0;34m,\u001b[0m \u001b[0m_\u001b[0m \u001b[0;34m=\u001b[0m \u001b[0msys\u001b[0m\u001b[0;34m.\u001b[0m\u001b[0mexc_info\u001b[0m\u001b[0;34m(\u001b[0m\u001b[0;34m)\u001b[0m\u001b[0;34m\u001b[0m\u001b[0m\n",
      "\u001b[0;32m~/2017-trio-lbl-talk/python-37/lib/python3.7/site-packages/trio/_core/_run.py\u001b[0m in \u001b[0;36mopen_cancel_scope\u001b[0;34m(deadline, shield)\u001b[0m\n\u001b[1;32m    201\u001b[0m     \u001b[0;32mtry\u001b[0m\u001b[0;34m:\u001b[0m\u001b[0;34m\u001b[0m\u001b[0m\n\u001b[1;32m    202\u001b[0m         \u001b[0;32mwith\u001b[0m \u001b[0mMultiError\u001b[0m\u001b[0;34m.\u001b[0m\u001b[0mcatch\u001b[0m\u001b[0;34m(\u001b[0m\u001b[0mscope\u001b[0m\u001b[0;34m.\u001b[0m\u001b[0m_exc_filter\u001b[0m\u001b[0;34m)\u001b[0m\u001b[0;34m:\u001b[0m\u001b[0;34m\u001b[0m\u001b[0m\n\u001b[0;32m--> 203\u001b[0;31m             \u001b[0;32myield\u001b[0m \u001b[0mscope\u001b[0m\u001b[0;34m\u001b[0m\u001b[0m\n\u001b[0m\u001b[1;32m    204\u001b[0m     \u001b[0;32mfinally\u001b[0m\u001b[0;34m:\u001b[0m\u001b[0;34m\u001b[0m\u001b[0m\n\u001b[1;32m    205\u001b[0m         \u001b[0mscope\u001b[0m\u001b[0;34m.\u001b[0m\u001b[0m_remove_task\u001b[0m\u001b[0;34m(\u001b[0m\u001b[0mtask\u001b[0m\u001b[0;34m)\u001b[0m\u001b[0;34m\u001b[0m\u001b[0m\n",
      "\u001b[0;32m~/2017-trio-lbl-talk/python-37/lib/python3.7/site-packages/trio/_core/_run.py\u001b[0m in \u001b[0;36mopen_nursery\u001b[0;34m()\u001b[0m\n\u001b[1;32m    317\u001b[0m             \u001b[0mpending_exc\u001b[0m \u001b[0;34m=\u001b[0m \u001b[0mexc\u001b[0m\u001b[0;34m\u001b[0m\u001b[0m\n\u001b[1;32m    318\u001b[0m         \u001b[0;32massert\u001b[0m \u001b[0mcurrently_ki_protected\u001b[0m\u001b[0;34m(\u001b[0m\u001b[0;34m)\u001b[0m\u001b[0;34m\u001b[0m\u001b[0m\n\u001b[0;32m--> 319\u001b[0;31m         \u001b[0;32mawait\u001b[0m \u001b[0mnursery\u001b[0m\u001b[0;34m.\u001b[0m\u001b[0m_clean_up\u001b[0m\u001b[0;34m(\u001b[0m\u001b[0mpending_exc\u001b[0m\u001b[0;34m)\u001b[0m\u001b[0;34m\u001b[0m\u001b[0m\n\u001b[0m\u001b[1;32m    320\u001b[0m \u001b[0;34m\u001b[0m\u001b[0m\n\u001b[1;32m    321\u001b[0m \u001b[0;34m\u001b[0m\u001b[0m\n",
      "\u001b[0;32m~/2017-trio-lbl-talk/python-37/lib/python3.7/site-packages/trio/_core/_run.py\u001b[0m in \u001b[0;36m_clean_up\u001b[0;34m(self, pending_exc)\u001b[0m\n\u001b[1;32m    516\u001b[0m                     \u001b[0;31m# exception that already has __cause__ or __context__\u001b[0m\u001b[0;34m\u001b[0m\u001b[0;34m\u001b[0m\u001b[0m\n\u001b[1;32m    517\u001b[0m                     \u001b[0;31m# set.\u001b[0m\u001b[0;34m\u001b[0m\u001b[0;34m\u001b[0m\u001b[0m\n\u001b[0;32m--> 518\u001b[0;31m                     \u001b[0;32mraise\u001b[0m \u001b[0mmexc\u001b[0m\u001b[0;34m\u001b[0m\u001b[0m\n\u001b[0m\u001b[1;32m    519\u001b[0m \u001b[0;34m\u001b[0m\u001b[0m\n\u001b[1;32m    520\u001b[0m     \u001b[0;32mdef\u001b[0m \u001b[0m__del__\u001b[0m\u001b[0;34m(\u001b[0m\u001b[0mself\u001b[0m\u001b[0;34m)\u001b[0m\u001b[0;34m:\u001b[0m\u001b[0;34m\u001b[0m\u001b[0m\n",
      "\u001b[0;32m~/2017-trio-lbl-talk/python-37/lib/python3.7/site-packages/trio/_core/_run.py\u001b[0m in \u001b[0;36mrun_impl\u001b[0;34m(runner, async_fn, args)\u001b[0m\n\u001b[1;32m   1499\u001b[0m                 \u001b[0;31m# So now we send in the Result object and unwrap it on the\u001b[0m\u001b[0;34m\u001b[0m\u001b[0;34m\u001b[0m\u001b[0m\n\u001b[1;32m   1500\u001b[0m                 \u001b[0;31m# other side.\u001b[0m\u001b[0;34m\u001b[0m\u001b[0;34m\u001b[0m\u001b[0m\n\u001b[0;32m-> 1501\u001b[0;31m                 \u001b[0mmsg\u001b[0m \u001b[0;34m=\u001b[0m \u001b[0mtask\u001b[0m\u001b[0;34m.\u001b[0m\u001b[0mcoro\u001b[0m\u001b[0;34m.\u001b[0m\u001b[0msend\u001b[0m\u001b[0;34m(\u001b[0m\u001b[0mnext_send\u001b[0m\u001b[0;34m)\u001b[0m\u001b[0;34m\u001b[0m\u001b[0m\n\u001b[0m\u001b[1;32m   1502\u001b[0m             \u001b[0;32mexcept\u001b[0m \u001b[0mStopIteration\u001b[0m \u001b[0;32mas\u001b[0m \u001b[0mstop_iteration\u001b[0m\u001b[0;34m:\u001b[0m\u001b[0;34m\u001b[0m\u001b[0m\n\u001b[1;32m   1503\u001b[0m                 \u001b[0mfinal_result\u001b[0m \u001b[0;34m=\u001b[0m \u001b[0mValue\u001b[0m\u001b[0;34m(\u001b[0m\u001b[0mstop_iteration\u001b[0m\u001b[0;34m.\u001b[0m\u001b[0mvalue\u001b[0m\u001b[0;34m)\u001b[0m\u001b[0;34m\u001b[0m\u001b[0m\n",
      "\u001b[0;32m<ipython-input-6-fc285bc63a49>\u001b[0m in \u001b[0;36mtask1\u001b[0;34m()\u001b[0m\n\u001b[1;32m      1\u001b[0m \u001b[0;32masync\u001b[0m \u001b[0;32mdef\u001b[0m \u001b[0mtask1\u001b[0m\u001b[0;34m(\u001b[0m\u001b[0;34m)\u001b[0m\u001b[0;34m:\u001b[0m\u001b[0;34m\u001b[0m\u001b[0m\n\u001b[1;32m      2\u001b[0m     \u001b[0mprint\u001b[0m\u001b[0;34m(\u001b[0m\u001b[0;34m\"Task 1 started!\"\u001b[0m\u001b[0;34m)\u001b[0m\u001b[0;34m\u001b[0m\u001b[0m\n\u001b[0;32m----> 3\u001b[0;31m     \u001b[0;32mawait\u001b[0m \u001b[0mrtio\u001b[0m\u001b[0;34m.\u001b[0m\u001b[0msleep\u001b[0m\u001b[0;34m(\u001b[0m\u001b[0;36m1\u001b[0m\u001b[0;34m)\u001b[0m\u001b[0;34m\u001b[0m\u001b[0m\n\u001b[0m\u001b[1;32m      4\u001b[0m     \u001b[0mprint\u001b[0m\u001b[0;34m(\u001b[0m\u001b[0;34m\"Task 1 finished!\"\u001b[0m\u001b[0;34m)\u001b[0m\u001b[0;34m\u001b[0m\u001b[0m\n\u001b[1;32m      5\u001b[0m \u001b[0;34m\u001b[0m\u001b[0m\n",
      "\u001b[0;31mNameError\u001b[0m: name 'rtio' is not defined"
     ]
    }
   ],
   "source": [
    "async def task1():\n",
    "    print(\"Task 1 started!\")\n",
    "    await rtio.sleep(1)\n",
    "    print(\"Task 1 finished!\")\n",
    "    \n",
    "async def task2():\n",
    "    print(\"Task 2 started\")\n",
    "    await trio.sleep(1)\n",
    "    print(\"Task 2 finished\")\n",
    "    \n",
    "async def main():\n",
    "    print(\"main started\")\n",
    "    async with trio.open_nursery() as nursery:\n",
    "        print(\"nursery cancel scope is\", nursery.cancel_scope)        \n",
    "        nursery.start_soon(task1)\n",
    "        nursery.start_soon(task2)\n",
    "    print(\"main finished\")\n",
    "    \n",
    "trio.run(main)"
   ]
  },
  {
   "cell_type": "code",
   "execution_count": null,
   "metadata": {
    "collapsed": true
   },
   "outputs": [],
   "source": [
    "async def proxy_one_way(source, sink):\n",
    "    while True:\n",
    "        data = await source.read_some(MAX_SIZE)\n",
    "        if not data:\n",
    "            await sink.send_eof()\n",
    "            return\n",
    "        await sink.send_all(data)\n",
    "        \n",
    "async def proxy_two_way(a, b):\n",
    "    async with trio.open_nursery() as nursery:\n",
    "        nursery.start_soon(proxy_one_way, a, b)\n",
    "        nursery.start_soon(proxy_one_way, b, a)\n",
    "\n",
    "async def main():\n",
    "    with move_on_after(10):\n",
    "        await proxy_two_way(a, b)\n"
   ]
  },
  {
   "cell_type": "markdown",
   "metadata": {},
   "source": [
    "# Basic inter-task communication"
   ]
  },
  {
   "cell_type": "code",
   "execution_count": 37,
   "metadata": {
    "scrolled": true
   },
   "outputs": [
    {
     "name": "stdout",
     "output_type": "stream",
     "text": [
      "task 1: waiting for event\n",
      "task 2: sleeping\n",
      "task 2: setting event\n",
      "task 2: finished\n",
      "task 1: the event happened!\n"
     ]
    }
   ],
   "source": [
    "async def task1(event):\n",
    "    print(\"task 1: waiting for event\")\n",
    "    await event.wait()\n",
    "    print(\"task 1: the event happened!\")\n",
    "    \n",
    "async def task2(event):\n",
    "    print(\"task 2: sleeping\")\n",
    "    await trio.sleep(5)\n",
    "    print(\"task 2: setting event\")\n",
    "    event.set()\n",
    "    print(\"task 2: finished\")\n",
    "    \n",
    "async def main():\n",
    "    event = trio.Event()\n",
    "    async with trio.open_nursery() as nursery:\n",
    "        nursery.start_soon(task1, event)\n",
    "        nursery.start_soon(task2, event)\n",
    "        \n",
    "trio.run(main)"
   ]
  },
  {
   "cell_type": "markdown",
   "metadata": {},
   "source": [
    "# Happy eyeballs"
   ]
  },
  {
   "cell_type": "code",
   "execution_count": 27,
   "metadata": {},
   "outputs": [
    {
     "name": "stdout",
     "output_type": "stream",
     "text": [
      "HTTP/1.1 200 OK\r\n",
      "Date: Fri, 01 Dec 2017 00:25:10 GMT\r\n",
      "Server: Apache\r\n",
      "Content-Location: index.en.html\r\n",
      "Vary: negotiate,accept-language,Accept-Encoding\r\n",
      "TCN: choice\r\n",
      "X-Content-Type-Options: nosniff\r\n",
      "X-Frame-Options: sameorigin\r\n",
      "Referrer-Policy: no-referrer\r\n",
      "X-Xss-Protection: 1\r\n",
      "Strict-Transport-Security: max-age=15552000\r\n",
      "Last-Modified: Thu, 30 Nov 2017 19:26:39 GMT\r\n",
      "ETag: \"3ce6-55f383b2b6373\"\r\n",
      "Accept-Ranges: bytes\r\n",
      "Content-Length: 15590\r\n",
      "Cache-Control: max-age=86400\r\n",
      "Expires: Sat, 02 Dec 2017 00:25:10 GMT\r\n",
      "X-Clacks-Overhead: GNU Terry Pratchett\r\n",
      "Content-Type: text/html\r\n",
      "Content-Language: en\r\n",
      "\r\n",
      "\n",
      "<!DOCTYPE HTML PUBLIC \"-//W3C//DTD HTML 4.01//EN\" \"http://www.w3.org/TR/html4/strict.dtd\">\n",
      "<html lang=\"en\">\n",
      "<head>\n",
      "  <meta http-equiv=\"Content-Type\" content=\"text/html; charset=utf-8\">\n",
      "  <title>Debian -- The Universal Operating System </title>\n",
      "  <link rel=\"author\" href=\"mailto:webmaster@debian.org\">\n",
      "  <meta name=\"Description\" content=\"Debian is an operating system and a distribution of Free Software. It is maintained and updated through the work of many users who volunteer their time and effort.\">\n",
      "  <meta name=\"Generator\" content=\"WML 2.0.12 (16-Apr-2008)\">\n",
      "  <meta name=\"Modified\" content=\"2017-11-30 19:26:38\">\n",
      "  <meta name=\"viewport\" content=\"width=device-width\">\n",
      "  <meta name=\"mobileoptimized\" content=\"300\">\n",
      "  <meta name=\"HandheldFriendly\" content=\"true\">\n",
      "<link rel=\"alternate\" type=\"application/rss+xml\"\n",
      " title=\"Debian News\" href=\"News/news\">\n",
      "<link rel=\"alternate\" type=\"application/rss+xml\"\n",
      " title=\"Debian Project News\" href=\"News/weekly/dwn\">\n",
      "<link rel=\"alternate\" type=\"application/rss+xml\"\n",
      " title=\"Debian Security Advisories (titles only)\" href=\"security/dsa\">\n",
      "<link rel=\"alternate\" type=\"application/rss+xml\"\n",
      " title=\"Debian Security Advisories (summaries)\" href=\"security/dsa-long\">\n",
      "<link href=\"./debhome.css\" rel=\"stylesheet\" type=\"text/css\">\n",
      "  <link href=\"./debian-en.css\" rel=\"stylesheet\" type=\"text/css\" media=\"all\">\n",
      "  <link rel=\"shortcut icon\" href=\"favicon.ico\">\n",
      "  <meta name=\"Keywords\" content=\"debian, GNU, linux, unix, open source, free, DFSG\">\n",
      "<link rel=\"search\" type=\"application/opensearchdescription+xml\" title=\"Debian website search\" href=\"./search.en.xml\">\n",
      "</head>\n",
      "<body>\n",
      "<div id=\"header\">\n",
      "   <div id=\"upperheader\">\n",
      "   <div id=\"logo\">\n",
      "  <a href=\"./\" title=\"Debian Home\"><img src=\"./Pics/openlogo-50.png\" alt=\"Debian\" width=\"50\" height=\"61\"></a>\n",
      "  </div> <!-- end logo -->\n",
      "\t<div id=\"searchbox\">\n",
      "\t\t<form name=\"p\" method=\"get\" action=\"https://search.debian.org/cgi-bin/omega\">\n",
      "\t\t<p>\n",
      "<input type=\"hidden\" name=\"DB\" value=\"en\">\n",
      "\t\t\t<input name=\"P\" value=\"\" size=\"27\">\n",
      "\t\t\t<input type=\"submit\" value=\"Search\">\n",
      "\t\t</p>\n",
      "\t\t</form>\n",
      "\t</div>   <!-- end sitetools -->\n",
      " </div> <!-- end upperheader -->\n",
      "<!--UdmComment-->\n",
      "<div id=\"navbar\">\n",
      "<p class=\"hidecss\"><a href=\"#content\">Skip Quicknav</a></p>\n",
      "<ul>\n",
      "   <li><a href=\"intro/about\">About Debian</a></li>\n",
      "   <li><a href=\"distrib/\">Getting Debian</a></li>\n",
      "   <li><a href=\"./support\">Support</a></li>\n",
      "   <li><a href=\"./devel/\">Developers' Corner</a></li>\n",
      "</ul>\n",
      "</div> <!-- end navbar -->\n",
      "\t<p id=\"breadcrumbs\">&nbsp; </p>\n",
      "</div> <!-- end header -->\n",
      "<!--/UdmComment-->\n",
      "<div id=\"content\">\n",
      "<span class=\"download\"><a href=\"https://cdimage.debian.org/debian-cd/current/amd64/iso-cd/debian-9.2.1-amd64-netinst.iso\">Download Debian 9.2<em>(64-bit PC Network installer)</em></a> </span>\n",
      "<div id=\"splash\">\n",
      "\t<h1>Debian</h1>\n",
      "</div>\n",
      "<div id=\"intro\">\n",
      "<p><a href=\"https://www.debian.org/\">Debian</a> is a\n",
      "<a href=\"intro/free\">free</a> operating system (OS) for your computer.\n",
      "An operating system is the set of basic programs and utilities that make\n",
      "your computer run.\n",
      "</p>\n",
      "<p>Debian provides more than a pure OS: it comes with over\n",
      "51000 <a href=\"distrib/packages\">packages</a>, precompiled software bundled\n",
      "up in a nice format for easy installation on your machine. <a href=\"intro/about\">Read more...</a></p>\n",
      "</div>\n",
      "<div id=\"hometoc\">\n",
      "<!--UdmComment-->\n",
      "<ul id=\"hometoc-cola\">\n",
      "  <li><a href=\"intro/about\">About</a>\n",
      "    <ul>\n",
      "      <li><a href=\"./social_contract\">Social Contract</a></li>\n",
      "      <li><a href=\"./code_of_conduct\">Code of Conduct</a></li>\n",
      "      <li><a href=\"./intro/free\">Free Software</a></li>\n",
      "      <li><a href=\"./partners/\">Partners</a></li>\n",
      "      <li><a href=\"./donations\">Donations</a></li>\n",
      "      <li><a href=\"./contact\">Contact Us</a></li>\n",
      "    </ul>\n",
      "  </li>\n",
      "  <li><a href=\"./intro/help\">Help Debian</a></li>\n",
      "</ul>\n",
      "<ul id=\"hometoc-colb\">\n",
      "  <li><a href=\"distrib/\">Getting Debian</a>\n",
      "    <ul>\n",
      "      <li><a href=\"distrib/netinst\">Network install</a></li>\n",
      "      <li><a href=\"./CD/\">CD/USB ISO images</a></li>\n",
      "      <li><a href=\"./CD/vendors/\">CD vendors</a></li>\n",
      "      <li><a href=\"distrib/pre-installed\">Pre-installed</a></li>\n",
      "    </ul>\n",
      "  </li>\n",
      "  <li><a href=\"./blends/\">Pure Blends</a></li>\n",
      "  <li><a href=\"distrib/packages\">Debian Packages</a></li>\n",
      "  <li><a href=\"./devel/\">Developers' Corner</a></li>\n",
      "</ul>\n",
      "<ul id=\"hometoc-colc\">\n",
      "  <li><a href=\"./News/\">News</a>\n",
      "  <ul>\n",
      "    <li><a href=\"./News/weekly/\">Project News</a></li>\n",
      "    <li><a href=\"./events/\">Events</a></li>\n",
      "  </ul>\n",
      "  </li>\n",
      "  <li><a href=\"doc/\">Documentation</a>\n",
      "    <ul>\n",
      "      <li><a href=\"./releases/\">Release Info</a></li>\n",
      "      <li><a href=\"./releases/stable/installmanual\">Installation manual</a></li>\n",
      "      <li><a href=\"doc/books\">Debian Books</a></li>\n",
      "      <li><a href=\"https://wiki.debian.org/\">Debian Wiki</a></li>\n",
      "    </ul>\n",
      "  </li>\n",
      "</ul>\n",
      "<ul id=\"hometoc-cold\">\n",
      "  <li><a href=\"./support\">Support</a>\n",
      "    <ul>\n",
      "      <li><a href=\"./international/\">Debian International</a></li>\n",
      "      <li><a href=\"./security/\">Security Information</a></li>\n",
      "      <li><a href=\"Bugs/\">Bug reports</a></li>\n",
      "      <li><a href=\"./MailingLists/\">Mailing Lists</a></li>\n",
      "      <li><a href=\"https://lists.debian.org/\">Mailing List Archives</a></li>\n",
      "      <li><a href=\"./ports/\">Ports/Architectures</a></li>\n",
      "    </ul>\n",
      "  </li>\n",
      "</ul>\n",
      "<ul id=\"hometoc-cole\">\n",
      "  <li><a href=\"misc/\">Miscellaneous</a></li>\n",
      "  <li><a href=\"./sitemap\">Site map</a></li>\n",
      "  <li><a href=\"https://search.debian.org/\">Search</a></li>\n",
      "  <li><a href=\"https://bits.debian.org\">The Debian Blog</a></li>\n",
      "  <li><a href=\"https://identi.ca/debian\"><img src=\"Pics/identica.png\"\n",
      "  alt=\"follow debian on identi.ca!\" width=\"80\" height=\"15\"></a></li>\n",
      "  <li><a href=\"http://planet.debian.org\"><img src=\"Pics/planet.png\"\n",
      "  alt=\"follow debian on planet.debian.org!\" width=\"80\" height=\"15\"></a></li>\n",
      "  </ul>\n",
      "<!--/UdmComment-->\n",
      "</div> <!-- end hometoc -->\n",
      "<p class=\"infobar\">The <a href=\"releases/stable/\">latest stable release of Debian</a> is\n",
      "9.2. The last update to this release was made on\n",
      "October 7th, 2017. Read more about <a href=\"releases/\">available\n",
      "versions of Debian</a>.</p>\n",
      "<h2>Getting Started</h2>\n",
      "<ul>\n",
      "  <li>If you'd like to start using Debian, you can easily <a\n",
      "    href=\"distrib/\">obtain a copy</a>, and then follow the <a\n",
      "    href=\"releases/stable/installmanual\">installation instructions</a> to\n",
      "  install it.</li>\n",
      "  <li>If you're upgrading to the latest stable release\n",
      "  from a previous version, please read <a\n",
      "    href=\"releases/stable/releasenotes\">the release notes</a> before\n",
      "  proceeding.</li>\n",
      "  <li>To get help in using or setting up Debian, see\n",
      "  our <a href=\"doc/\">documentation</a> and <a href=\"support\">support</a>\n",
      "  pages.</li>\n",
      "  <li>Users that speak languages other than English should\n",
      "  check the <a href=\"international/\">international</a> section.</li>\n",
      "  <li>People who use systems other than Intel x86 should check the <a\n",
      "    href=\"ports/\">ports</a> section.</li>\n",
      "</ul>\n",
      "<hr>\n",
      "<a class=\"rss_logo\" href=\"News/news\">RSS</a>\n",
      "<h2>News</h2>\n",
      "<p><tt>[07 Oct 2017]</tt> <strong><a href=\"News/2017/20171007\">Updated Debian 9: 9.2 released</a></strong><br>\n",
      "<tt>[12 Aug 2017]</tt> <strong><a href=\"News/2017/20170812\">DebConf17 closes in Montreal and DebConf18 dates announced</a></strong><br>\n",
      "<tt>[22 Jul 2017]</tt> <strong><a href=\"News/2017/20170722\">Updated Debian 9: 9.1 released</a></strong><br>\n",
      "<tt>[22 Jul 2017]</tt> <strong><a href=\"News/2017/2017072202\">Updated Debian 8: 8.9 released</a></strong><br>\n",
      "<tt>[18 Jun 2017]</tt> <strong><a href=\"News/2017/20170618\">Debian Edu / Skolelinux Stretch — a complete Linux solution for your school</a></strong><br>\n",
      "<tt>[17 Jun 2017]</tt> <strong><a href=\"News/2017/20170617\">Debian 9 <q>Stretch</q> released</a></strong><br>\n",
      "</p>\n",
      "<p>For older news items see the <a href=\"./News/\">News Page</a>.\n",
      "If you would like to receive mail whenever new Debian news comes out, subscribe to the\n",
      "<a href=\"MailingLists/debian-announce\">debian-announce mailing list</a>.</p>\n",
      "<hr>\n",
      "<a class=\"rss_logo\" href=\"security/dsa\">RSS</a>\n",
      "<h2>Security Advisories</h2>\n",
      "<p><tt>[30 Nov 2017]</tt> <strong><a href=\"security/2017/dsa-4053\">DSA-4053 exim4</a></strong> - security update <br>\n",
      "<tt>[29 Nov 2017]</tt> <strong><a href=\"security/2017/dsa-4052\">DSA-4052 bzr</a></strong> - security update <br>\n",
      "<tt>[29 Nov 2017]</tt> <strong><a href=\"security/2017/dsa-4051\">DSA-4051 curl</a></strong> - security update <br>\n",
      "<tt>[28 Nov 2017]</tt> <strong><a href=\"security/2017/dsa-4050\">DSA-4050 xen</a></strong> - security update <br>\n",
      "<tt>[27 Nov 2017]</tt> <strong><a href=\"security/2017/dsa-4049\">DSA-4049 ffmpeg</a></strong> - security update <br>\n",
      "<tt>[23 Nov 2017]</tt> <strong><a href=\"security/2017/dsa-4048\">DSA-4048 openjdk-7</a></strong> - security update <br>\n",
      "<tt>[23 Nov 2017]</tt> <strong><a href=\"security/2017/dsa-4047\">DSA-4047 otrs2</a></strong> - security update <br>\n",
      "<tt>[22 Nov 2017]</tt> <strong><a href=\"security/2017/dsa-4046\">DSA-4046 libspring-ldap-java</a></strong> - security update <br>\n",
      "<tt>[21 Nov 2017]</tt> <strong><a href=\"security/2017/dsa-4045\">DSA-4045 vlc</a></strong> - security update <br>\n",
      "<tt>[21 Nov 2017]</tt> <strong><a href=\"security/2017/dsa-4044\">DSA-4044 swauth</a></strong> - security update <br>\n",
      "<tt>[21 Nov 2017]</tt> <strong><a href=\"security/2017/dsa-4043\">DSA-4043 samba</a></strong> - security update <br>\n",
      "<tt>[19 Nov 2017]</tt> <strong><a href=\"security/2017/dsa-4042\">DSA-4042 libxml-libxml-perl</a></strong> - security update <br>\n",
      "<tt>[19 Nov 2017]</tt> <strong><a href=\"security/2017/dsa-4041\">DSA-4041 procmail</a></strong> - security update <br>\n",
      "<tt>[17 Nov 2017]</tt> <strong><a href=\"security/2017/dsa-4040\">DSA-4040 imagemagick</a></strong> - security update <br>\n",
      "<tt>[16 Nov 2017]</tt> <strong><a href=\"security/2017/dsa-4039\">DSA-4039 opensaml2</a></strong> - security update <br>\n",
      "<tt>[16 Nov 2017]</tt> <strong><a href=\"security/2017/dsa-4038\">DSA-4038 shibboleth-sp2</a></strong> - security update <br>\n",
      "<tt>[16 Nov 2017]</tt> <strong><a href=\"security/2017/dsa-4037\">DSA-4037 jackson-databind</a></strong> - security update <br>\n",
      "</p>\n",
      "<p>For ol\n"
     ]
    }
   ],
   "source": [
    "TIMEOUT = 0.300\n",
    "\n",
    "async def open_tcp_connection(host, port):\n",
    "    targets = await trio.socket.getaddrinfo(host, port, type=trio.socket.SOCK_STREAM)\n",
    "    winning_socket = None\n",
    "    failure_events = [trio.Event() for _ in targets]\n",
    "    \n",
    "    async def attempt_one_connect(which, nursery):\n",
    "        with trio.move_on_after(TIMEOUT):\n",
    "            if which - 1 >= 0:\n",
    "                await failure_events[which - 1].wait()\n",
    "        \n",
    "        if which + 1 < len(targets):\n",
    "            nursery.start_soon(attempt_one_connect, which + 1, nursery)\n",
    "        \n",
    "        *socket_config, _, address = targets[which]\n",
    "        try:\n",
    "            socket = trio.socket.socket(*socket_config)\n",
    "            await socket.connect(address)\n",
    "        except OSError:\n",
    "            failure_events[which].set()\n",
    "        else:\n",
    "            nonlocal winning_socket\n",
    "            winning_socket = socket\n",
    "            nursery.cancel_scope.cancel()\n",
    "        \n",
    "    async with trio.open_nursery() as nursery:\n",
    "        nursery.start_soon(attempt_one_connect, 0, nursery)\n",
    "        \n",
    "    if winning_socket is None:\n",
    "        raise OSError(\"all attempts failed\")\n",
    "    else:\n",
    "        return winning_socket\n",
    "    \n",
    "async def main():\n",
    "    #socket = await open_tcp_connection(\"www.debian.org\", \"https\")\n",
    "    #print(socket)\n",
    "    #stream = trio.ssl.SSLStream(trio.SocketStream(socket), trio.ssl.create_default_context(), server_hostname=\"www.debian.org\")\n",
    "    stream = await trio.open_ssl_over_tcp_stream(\"www.debian.org\", 443)\n",
    "    await stream.send_all(b\"GET / HTTP/1.1\\r\\nHost: www.debian.org\\r\\n\\r\\n\")\n",
    "    print((await stream.receive_some(10000)).decode(\"utf-8\"))\n",
    "    print((await stream.receive_some(10000)).decode(\"utf-8\"))\n",
    "\n",
    "trio.run(main)"
   ]
  },
  {
   "cell_type": "code",
   "execution_count": null,
   "metadata": {
    "collapsed": true
   },
   "outputs": [],
   "source": []
  }
 ],
 "metadata": {
  "kernelspec": {
   "display_name": "Python 3",
   "language": "python",
   "name": "python3"
  },
  "language_info": {
   "codemirror_mode": {
    "name": "ipython",
    "version": 3
   },
   "file_extension": ".py",
   "mimetype": "text/x-python",
   "name": "python",
   "nbconvert_exporter": "python",
   "pygments_lexer": "ipython3",
   "version": "3.5.4rc1"
  }
 },
 "nbformat": 4,
 "nbformat_minor": 2
}
